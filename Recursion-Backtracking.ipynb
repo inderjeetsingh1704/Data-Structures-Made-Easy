{
 "cells": [
  {
   "cell_type": "markdown",
   "metadata": {},
   "source": [
    "### Tower of Hanoi"
   ]
  },
  {
   "cell_type": "code",
   "execution_count": 13,
   "metadata": {},
   "outputs": [
    {
     "name": "stdout",
     "output_type": "stream",
     "text": [
      "moving 1 from A to B\n",
      "hahahah moving 2 from A to C\n",
      "moving 1 from B to C\n"
     ]
    }
   ],
   "source": [
    "def TowerOfHanoi(n,from_,to_,aux_):\n",
    "    if n==1:\n",
    "        print(f\"moving {n} from {from_} to {to_}\")\n",
    "        return\n",
    "    TowerOfHanoi(n-1,from_,aux_,to_)\n",
    "    print(f\"hahahah moving {n} from {from_} to {to_}\")\n",
    "    TowerOfHanoi(n-1,aux_,to_,from_)\n",
    "\n",
    "TowerOfHanoi(2,'A','C','B')"
   ]
  },
  {
   "cell_type": "code",
   "execution_count": null,
   "metadata": {},
   "outputs": [
    {
     "data": {
      "text/plain": [
       "'11110\\n01010'"
      ]
     },
     "execution_count": 69,
     "metadata": {},
     "output_type": "execute_result"
    }
   ],
   "source": [
    "11110\n",
    "01010\n",
    "01010\n",
    "01000\n",
    "11111\n"
   ]
  },
  {
   "cell_type": "markdown",
   "metadata": {},
   "source": [
    "### Pathfinder with Recursion"
   ]
  },
  {
   "cell_type": "code",
   "execution_count": 11,
   "metadata": {},
   "outputs": [
    {
     "name": "stdout",
     "output_type": "stream",
     "text": [
      "[(0, 0), (0, 1), (0, 2), (0, 3), (1, 3), (2, 3), (3, 3), (4, 3), (4, 4)]\n"
     ]
    }
   ],
   "source": [
    "def pathfinder(Matrix, position, N):\n",
    "    if position == (N-1,N-1):\n",
    "        return [(N-1,N-1)]\n",
    "    x,y = position\n",
    "\n",
    "    if x+1<N and Matrix[x+1][y] ==1:\n",
    "        a = pathfinder(Matrix,(x+1,y),N)\n",
    "        if a!= None:\n",
    "            return [(x,y)] + a\n",
    "    if y+1<N and Matrix[x][y+1] == 1:\n",
    "        b = pathfinder(Matrix,(x,y+1),N)\n",
    "        if b!=None:\n",
    "            return [(x,y)] + b\n",
    "    \n",
    "\n",
    "Matrix =[[1,1,1,1,1],[0,1,0,1,0],[0,1,0,1,0],[0,0,1,1,0],[1,1,1,1,1]]\n",
    "print(pathfinder(Matrix,(0,0),5))\n"
   ]
  },
  {
   "cell_type": "code",
   "execution_count": null,
   "metadata": {},
   "outputs": [],
   "source": []
  },
  {
   "cell_type": "code",
   "execution_count": null,
   "metadata": {},
   "outputs": [],
   "source": []
  },
  {
   "cell_type": "markdown",
   "metadata": {},
   "source": []
  }
 ],
 "metadata": {
  "kernelspec": {
   "display_name": "env-3.13.1",
   "language": "python",
   "name": "python3"
  },
  "language_info": {
   "codemirror_mode": {
    "name": "ipython",
    "version": 3
   },
   "file_extension": ".py",
   "mimetype": "text/x-python",
   "name": "python",
   "nbconvert_exporter": "python",
   "pygments_lexer": "ipython3",
   "version": "3.13.1"
  }
 },
 "nbformat": 4,
 "nbformat_minor": 2
}
