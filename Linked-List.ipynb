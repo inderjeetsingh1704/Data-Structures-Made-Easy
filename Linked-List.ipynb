{
 "cells": [
  {
   "cell_type": "code",
   "execution_count": 338,
   "metadata": {},
   "outputs": [],
   "source": [
    "class Node:\n",
    "    def __init__(self,data=None,next=None):\n",
    "        self.data = data\n",
    "        self.next = None\n",
    "    def setData(self,data):\n",
    "        self.data = data\n",
    "    def getData(self):\n",
    "        return self.data\n",
    "    def setNext(self,next):\n",
    "        self.next = next\n",
    "    def getNext(self):\n",
    "        return self.next\n",
    "    def hasNext(self):\n",
    "        return self.next!=None\n"
   ]
  },
  {
   "cell_type": "markdown",
   "metadata": {},
   "source": [
    "# Singly Linked Linked List"
   ]
  },
  {
   "cell_type": "code",
   "execution_count": null,
   "metadata": {},
   "outputs": [],
   "source": [
    "class LinkedList(object):\n",
    "    def __init__(self, node=None):\n",
    "        # Initialize the linked list with an optional node\n",
    "        self.Length = 0\n",
    "        self.head = node\n",
    "    \n",
    "    def insertAtBeginning(self, data):\n",
    "        # Insert a new node at the beginning of the linked list\n",
    "        newNode = Node()\n",
    "        newNode.setData(data)\n",
    "        if self.Length == 0:\n",
    "            self.head = newNode\n",
    "        else:\n",
    "            newNode.setNext(self.head)\n",
    "            self.head = newNode\n",
    "        self.Length += 1\n",
    "    \n",
    "    def insertAtEnd(self, data):\n",
    "        # Insert a new node at the end of the linked list\n",
    "        newNode = Node()\n",
    "        newNode.setData(data)\n",
    "        current = self.head\n",
    "        while current.getNext() != None:\n",
    "            current = current.getNext()\n",
    "        current.setNext(newNode)\n",
    "        self.Length += 1\n",
    "\n",
    "    def insertAtGivenPosition(self, data, position):\n",
    "        # Insert a new node at a given position in the linked list\n",
    "        if position > self.Length or position < 0:\n",
    "            print(f\"The value cannot be inserted at position {position} as the lenght of the linked list is {self.Length}\")\n",
    "            return None\n",
    "        if position == 0:\n",
    "            self.insertAtBeginning(data)\n",
    "        else:\n",
    "            if position == self.Length:\n",
    "                self.insertAtEnd(data)\n",
    "            else:\n",
    "                newNode = Node()\n",
    "                newNode.setData(data)\n",
    "                current = self.head\n",
    "                step = 1\n",
    "                while current != None and step < position - 1:\n",
    "                    step += 1\n",
    "                    current = current.getNext()\n",
    "                newNode.setNext(current.next)\n",
    "                current.setNext(newNode)\n",
    "                self.Length += 1\n",
    "    \n",
    "    def deleteFromBeginning(self):\n",
    "        # Delete a node from the beginning of the linked list\n",
    "        if self.Length == 0:\n",
    "            print(\"The Linked List is empty\")\n",
    "        else:\n",
    "            print(f\"{self.head.getData()} is deleted.\")\n",
    "            self.head = self.head.next\n",
    "            self.Length -= 1\n",
    "            print(\"New Linked List is: \")\n",
    "            self.printList()\n",
    "\n",
    "    def deleteFromEnd(self):\n",
    "        # Delete a node from the end of the linked list\n",
    "        if self.Length == 0:\n",
    "            print(\"The Linked List is empty\")\n",
    "        elif self.Length == 1:\n",
    "            self.deleteFromBeginning()\n",
    "            self.printList()\n",
    "        else:\n",
    "            current = self.head\n",
    "            while current.next.next != None:\n",
    "                current = current.getNext()\n",
    "            print(f\"{current.getNext().getData()} is deleted.\")\n",
    "            current.setNext(None)\n",
    "            self.Length -= 1\n",
    "            print(\"New Linked List is: \")\n",
    "            self.printList()\n",
    "    \n",
    "    def deleteWithValue(self, value):\n",
    "        # Delete a node based on its value\n",
    "        if self.Length == 0:\n",
    "            print(\"The Linked List is empty\")\n",
    "        else:\n",
    "            previous = self.head\n",
    "            current = self.head\n",
    "            while current != None:\n",
    "                if current.data == value:\n",
    "                    if current == self.head:\n",
    "                        self.deleteFromBeginning()\n",
    "                        self.Length -= 1\n",
    "                        return\n",
    "                    else:\n",
    "                        print(f\"{current.getData()} is deleted.\")\n",
    "                        previous.setNext(current.getNext())\n",
    "                        self.Length -=1\n",
    "                        self.printList()\n",
    "                        return\n",
    "                else:\n",
    "                    previous = current\n",
    "                    current = current.getNext()\n",
    "            else:\n",
    "                print(\"Data not Found\")\n",
    "    \n",
    "    def deleteWithPostion(self, position):\n",
    "        # Deletes a node in the linked list based on its position\n",
    "        if position<0 or position >= self.Length:\n",
    "            print(f\"incorrect input. Please enter a valid input. Max Position is {self.Length-1}\")\n",
    "        elif position == 0:\n",
    "            self.deleteFromBeginning()\n",
    "        else:\n",
    "            count = 0\n",
    "            current = self.head\n",
    "            previous = self.head\n",
    "            while current != None or count < position:\n",
    "                if count == position:\n",
    "                    print(f\"{current.getData()} is deleted.\")\n",
    "                    previous.setNext(current.getNext())\n",
    "                    self.Length -= 1\n",
    "                    self.printList()\n",
    "                    return\n",
    "                else:\n",
    "                    previous = current\n",
    "                    current = current.getNext()\n",
    "                count += 1\n",
    "                \n",
    "    def clearLinkedList(self):\n",
    "        # Clears the Linked List\n",
    "        self.head = None\n",
    "        self.Length = 0\n",
    "        self.printList()\n",
    "\n",
    "    def printList(self):\n",
    "        # Print all the nodes in the linked list\n",
    "        current = self.head\n",
    "        while current != None:\n",
    "            print(current.getData(), end=\" -> \")\n",
    "            current = current.getNext()\n",
    "        print(\"None\")"
   ]
  },
  {
   "cell_type": "code",
   "execution_count": 433,
   "metadata": {},
   "outputs": [],
   "source": [
    "new_linked_list = LinkedList()"
   ]
  },
  {
   "cell_type": "markdown",
   "metadata": {},
   "source": [
    "### Insertion"
   ]
  },
  {
   "cell_type": "code",
   "execution_count": 434,
   "metadata": {},
   "outputs": [
    {
     "name": "stdout",
     "output_type": "stream",
     "text": [
      "45 -> 50 -> 30 -> 25 -> None\n"
     ]
    }
   ],
   "source": [
    "new_linked_list.insertAtBeginning(50)\n",
    "new_linked_list.insertAtEnd(30)\n",
    "new_linked_list.insertAtGivenPosition(25,2)\n",
    "new_linked_list.insertAtBeginning(45)\n",
    "new_linked_list.printList()"
   ]
  },
  {
   "cell_type": "markdown",
   "metadata": {},
   "source": [
    "### Deletion"
   ]
  },
  {
   "cell_type": "code",
   "execution_count": 435,
   "metadata": {},
   "outputs": [
    {
     "name": "stdout",
     "output_type": "stream",
     "text": [
      "45 is deleted.\n",
      "New Linked List is: \n",
      "50 -> 30 -> 25 -> None\n",
      "25 is deleted.\n",
      "New Linked List is: \n",
      "50 -> 30 -> None\n",
      "incorrect input. Please enter a valid input. Max Position is 1\n",
      "30 is deleted.\n",
      "50 -> None\n"
     ]
    }
   ],
   "source": [
    "new_linked_list.deleteFromBeginning()\n",
    "new_linked_list.deleteFromEnd()\n",
    "new_linked_list.deleteWithPostion(2)\n",
    "new_linked_list.deleteWithValue(30)"
   ]
  },
  {
   "cell_type": "markdown",
   "metadata": {},
   "source": [
    "### Miscellaneous"
   ]
  },
  {
   "cell_type": "code",
   "execution_count": 436,
   "metadata": {},
   "outputs": [
    {
     "name": "stdout",
     "output_type": "stream",
     "text": [
      "50 -> None\n",
      "None\n"
     ]
    }
   ],
   "source": [
    "new_linked_list.printList()\n",
    "new_linked_list.clearLinkedList()"
   ]
  },
  {
   "cell_type": "code",
   "execution_count": null,
   "metadata": {},
   "outputs": [],
   "source": []
  },
  {
   "cell_type": "code",
   "execution_count": null,
   "metadata": {},
   "outputs": [],
   "source": []
  }
 ],
 "metadata": {
  "kernelspec": {
   "display_name": "env-3.13.1",
   "language": "python",
   "name": "python3"
  },
  "language_info": {
   "codemirror_mode": {
    "name": "ipython",
    "version": 3
   },
   "file_extension": ".py",
   "mimetype": "text/x-python",
   "name": "python",
   "nbconvert_exporter": "python",
   "pygments_lexer": "ipython3",
   "version": "3.13.1"
  }
 },
 "nbformat": 4,
 "nbformat_minor": 2
}
