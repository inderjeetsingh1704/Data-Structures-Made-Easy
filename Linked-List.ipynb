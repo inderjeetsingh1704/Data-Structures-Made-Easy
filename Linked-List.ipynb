{
 "cells": [
  {
   "cell_type": "code",
   "execution_count": 1,
   "metadata": {},
   "outputs": [],
   "source": [
    "class Node:\n",
    "    def __init__(self,data=None,next=None):\n",
    "        self.data = data\n",
    "        self.next = None\n",
    "    def setData(self,data):\n",
    "        self.data = data\n",
    "    def getData(self):\n",
    "        return self.data\n",
    "    def setNext(self,next):\n",
    "        self.next = next\n",
    "    def getNext(self):\n",
    "        return self.next\n",
    "    def hasNext(self):\n",
    "        return self.next!=None\n"
   ]
  },
  {
   "cell_type": "code",
   "execution_count": null,
   "metadata": {},
   "outputs": [],
   "source": [
    "class LinkedList(object):\n",
    "    def __init__(self,node=None):\n",
    "        self.Length=0\n",
    "        self.head=node\n",
    "    \n",
    "    def insertAtBeginning(self,data):\n",
    "        newNode = Node()\n",
    "        newNode.setData(data)\n",
    "        if self.Length==0:\n",
    "            self.head = newNode\n",
    "        else:\n",
    "            newNode.setNext(self.head)\n",
    "            self.head = newNode\n",
    "        self.Length += 1\n",
    "    \n",
    "    def insertAtEnd(self,data):\n",
    "        newNode = Node()\n",
    "        newNode.setData(data)\n",
    "        current = self.head\n",
    "        while current.getNext()!=None:\n",
    "            current = current.getNext()\n",
    "        current.setNext(newNode)\n",
    "        self.Length += 1\n",
    "\n",
    "    def insertAtGivenPosition(self,data,position):\n",
    "        if position>self.Length or position<0:\n",
    "            return None\n",
    "        if position == 0:\n",
    "            self.insertAtBeginning(data)\n",
    "        else:\n",
    "            if position == self.Length:\n",
    "                self.insertAtEnd(data)\n",
    "            else:\n",
    "                newNode = Node()\n",
    "                newNode.setData(data)\n",
    "                current = self.head\n",
    "                step = 1\n",
    "                while current!=None and step<position-1:\n",
    "                    step += 1\n",
    "                    current = current.getNext()\n",
    "                newNode.setNext(current.next)\n",
    "                current.setNext(newNode)\n",
    "                self.Length += 1\n",
    "    def deleteFromBeginning(self):\n",
    "        if self.Length == 0:\n",
    "            print(\"The Linked List is empty\")\n",
    "        else:\n",
    "            print(f\"{self.head.getData()} is deleted.\")\n",
    "            self.head = self.head.next\n",
    "            self.Length -= 1\n",
    "            print(f\"New Linked List is: \")\n",
    "            self.printList()\n",
    "\n",
    "    def deleteFromEnd(self):\n",
    "        if self.Length == 0:\n",
    "            print(\"The Linked List is empty\")\n",
    "        elif self.Length == 1:\n",
    "            self.deleteFromBeginning()\n",
    "            self.printList()\n",
    "        else:\n",
    "            current = self.head\n",
    "            while current.next.next!=None:\n",
    "                current = current.getNext()\n",
    "            print(f\"{current.getNext().getData()} is deleted.\")\n",
    "            current.setNext(None)\n",
    "            # self.head = self.head.next\n",
    "            self.Length -= 1\n",
    "            print(f\"New Linked List is: \")\n",
    "            self.printList()\n",
    "            \n",
    "    def printList(self):\n",
    "        current = self.head\n",
    "        while current!=None:\n",
    "            print(current.getData(),end=\" -> \")\n",
    "            current = current.getNext()\n",
    "        print(\"None\")\n",
    "            \n",
    "    "
   ]
  },
  {
   "cell_type": "code",
   "execution_count": 210,
   "metadata": {},
   "outputs": [],
   "source": [
    "new_linked_list = LinkedList()"
   ]
  },
  {
   "cell_type": "code",
   "execution_count": 220,
   "metadata": {},
   "outputs": [
    {
     "name": "stdout",
     "output_type": "stream",
     "text": [
      "30 -> 1 -> 12 -> 20 -> 22 -> None\n"
     ]
    }
   ],
   "source": [
    "new_linked_list.insertAtBeginning(12)\n",
    "new_linked_list.insertAtBeginning(1)\n",
    "new_linked_list.insertAtBeginning(30)\n",
    "new_linked_list.insertAtEnd(20)\n",
    "new_linked_list.insertAtEnd(22)\n",
    "new_linked_list.printList()\n"
   ]
  },
  {
   "cell_type": "code",
   "execution_count": 226,
   "metadata": {},
   "outputs": [
    {
     "name": "stdout",
     "output_type": "stream",
     "text": [
      "The Linked List is empty\n"
     ]
    }
   ],
   "source": [
    "new_linked_list.deleteFromBeginning()"
   ]
  },
  {
   "cell_type": "code",
   "execution_count": 213,
   "metadata": {},
   "outputs": [],
   "source": [
    "new_linked_list.insertAtGivenPosition(40,5)"
   ]
  },
  {
   "cell_type": "code",
   "execution_count": 154,
   "metadata": {},
   "outputs": [
    {
     "name": "stdout",
     "output_type": "stream",
     "text": [
      "30 is deleted.\n",
      "New Linked List is: \n",
      "1 -> 12 -> 20 -> 22 -> 40 -> None\n"
     ]
    }
   ],
   "source": [
    "new_linked_list.deleteFromBeginning()"
   ]
  },
  {
   "cell_type": "code",
   "execution_count": 176,
   "metadata": {},
   "outputs": [
    {
     "name": "stdout",
     "output_type": "stream",
     "text": [
      "30 -> 1 -> 12 -> 20 -> None\n"
     ]
    }
   ],
   "source": [
    "new_linked_list.printList()"
   ]
  },
  {
   "cell_type": "code",
   "execution_count": null,
   "metadata": {},
   "outputs": [],
   "source": []
  },
  {
   "cell_type": "code",
   "execution_count": null,
   "metadata": {},
   "outputs": [],
   "source": []
  }
 ],
 "metadata": {
  "kernelspec": {
   "display_name": "env-3.13.1",
   "language": "python",
   "name": "python3"
  },
  "language_info": {
   "codemirror_mode": {
    "name": "ipython",
    "version": 3
   },
   "file_extension": ".py",
   "mimetype": "text/x-python",
   "name": "python",
   "nbconvert_exporter": "python",
   "pygments_lexer": "ipython3",
   "version": "3.13.1"
  }
 },
 "nbformat": 4,
 "nbformat_minor": 2
}
